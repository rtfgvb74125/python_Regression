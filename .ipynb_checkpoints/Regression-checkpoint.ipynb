{
 "cells": [
  {
   "cell_type": "code",
   "execution_count": 1,
   "metadata": {},
   "outputs": [],
   "source": [
    "import numpy as np\n",
    "import pandas as pd\n",
    "import matplotlib.pyplot as plt\n",
    "\n",
    "#線性回歸\n",
    "from sklearn import linear_model\n",
    "#多項性回歸\n",
    "from sklearn.preprocessing import PolynomialFeatures\n",
    "from sklearn.pipeline import make_pipeline\n",
    "#資料集\n",
    "from sklearn.datasets import make_regression\n",
    "from sklearn.model_selection import train_test_split"
   ]
  },
  {
   "cell_type": "code",
   "execution_count": 2,
   "metadata": {},
   "outputs": [],
   "source": [
    "#創建100個樣本點，1個特徵\n",
    "X,y=make_regression(n_samples=100,n_features=1,noise=20)"
   ]
  },
  {
   "cell_type": "code",
   "execution_count": 3,
   "metadata": {},
   "outputs": [
    {
     "data": {
      "text/plain": [
       "array([[ 1.08074999],\n",
       "       [ 1.42390367],\n",
       "       [-0.27469599],\n",
       "       [ 2.30392923],\n",
       "       [-1.04767426],\n",
       "       [-1.07106776],\n",
       "       [ 1.3604427 ],\n",
       "       [-0.48613484],\n",
       "       [-0.06536872],\n",
       "       [ 1.32206191],\n",
       "       [-1.10429442],\n",
       "       [ 1.06035985],\n",
       "       [-0.20721733],\n",
       "       [ 0.93012452],\n",
       "       [-0.76312833],\n",
       "       [-2.11620213],\n",
       "       [-0.73228971],\n",
       "       [-0.00406336],\n",
       "       [ 0.7635587 ],\n",
       "       [-0.19576991],\n",
       "       [-0.26612622],\n",
       "       [ 0.27663488],\n",
       "       [-0.48640979],\n",
       "       [ 0.5406    ],\n",
       "       [-0.68041705],\n",
       "       [-0.84950815],\n",
       "       [-1.17877243],\n",
       "       [-3.47531473],\n",
       "       [ 0.72310602],\n",
       "       [-0.20126878],\n",
       "       [-0.02676713],\n",
       "       [-0.68664981],\n",
       "       [-0.78409072],\n",
       "       [ 0.76766708],\n",
       "       [-2.45583541],\n",
       "       [-0.83604663],\n",
       "       [ 0.26510208],\n",
       "       [-1.47974974],\n",
       "       [ 0.50868316],\n",
       "       [-1.85628797],\n",
       "       [ 0.29148528],\n",
       "       [-0.77219977],\n",
       "       [ 1.66146711],\n",
       "       [-0.41150245],\n",
       "       [ 0.28877138],\n",
       "       [ 1.1150047 ],\n",
       "       [-0.80674792],\n",
       "       [ 1.18367675],\n",
       "       [ 0.36395016],\n",
       "       [-1.38111302],\n",
       "       [-0.82603005],\n",
       "       [-1.1116541 ],\n",
       "       [-1.92134424],\n",
       "       [-1.04856915],\n",
       "       [ 0.40766309],\n",
       "       [-1.79265548],\n",
       "       [ 1.12166607],\n",
       "       [ 0.01802306],\n",
       "       [ 0.86853095],\n",
       "       [ 0.32849072],\n",
       "       [-0.88465322],\n",
       "       [ 0.38595501],\n",
       "       [ 0.52916519],\n",
       "       [-0.92775907],\n",
       "       [-1.03161279],\n",
       "       [-0.47572647],\n",
       "       [-0.07716008],\n",
       "       [-0.22176781],\n",
       "       [-0.27005578],\n",
       "       [-1.30163319],\n",
       "       [ 0.59858812],\n",
       "       [-0.94628412],\n",
       "       [ 0.38705419],\n",
       "       [ 0.17553313],\n",
       "       [ 1.49991468],\n",
       "       [-0.35365172],\n",
       "       [-0.2004356 ],\n",
       "       [ 0.48865193],\n",
       "       [ 1.16408494],\n",
       "       [-0.20292504],\n",
       "       [ 0.15993716],\n",
       "       [-0.34021205],\n",
       "       [-0.21060361],\n",
       "       [ 1.17809245],\n",
       "       [ 0.83322473],\n",
       "       [ 0.4037258 ],\n",
       "       [ 0.71061548],\n",
       "       [ 0.23904448],\n",
       "       [-0.36962986],\n",
       "       [-0.18090569],\n",
       "       [ 0.14108524],\n",
       "       [-0.02750289],\n",
       "       [-0.34054505],\n",
       "       [ 0.79678825],\n",
       "       [-0.04964317],\n",
       "       [ 0.26008985],\n",
       "       [-0.62741081],\n",
       "       [ 0.93206493],\n",
       "       [-1.67563109],\n",
       "       [-2.24333328]])"
      ]
     },
     "execution_count": 3,
     "metadata": {},
     "output_type": "execute_result"
    }
   ],
   "source": [
    "X"
   ]
  },
  {
   "cell_type": "code",
   "execution_count": 4,
   "metadata": {},
   "outputs": [
    {
     "data": {
      "text/plain": [
       "<matplotlib.collections.PathCollection at 0x27560688280>"
      ]
     },
     "execution_count": 4,
     "metadata": {},
     "output_type": "execute_result"
    },
    {
     "data": {
      "image/png": "[encoded data removed]",
      "text/plain": [
       "<Figure size 432x288 with 1 Axes>"
      ]
     },
     "metadata": {
      "needs_background": "light"
     },
     "output_type": "display_data"
    }
   ],
   "source": [
    "plt.scatter(X,y)"
   ]
  },
  {
   "cell_type": "code",
   "execution_count": 5,
   "metadata": {},
   "outputs": [
    {
     "data": {
      "text/plain": [
       "(100, 1)"
      ]
     },
     "execution_count": 5,
     "metadata": {},
     "output_type": "execute_result"
    }
   ],
   "source": [
    "X.shape"
   ]
  },
  {
   "cell_type": "code",
   "execution_count": 6,
   "metadata": {},
   "outputs": [
    {
     "data": {
      "text/plain": [
       "(100,)"
      ]
     },
     "execution_count": 6,
     "metadata": {},
     "output_type": "execute_result"
    }
   ],
   "source": [
    "y.shape"
   ]
  },
  {
   "cell_type": "code",
   "execution_count": 7,
   "metadata": {},
   "outputs": [],
   "source": [
    "X_train , X_test , y_train , y_test = train_test_split(X,y,test_size = 0.3,random_state = 0)"
   ]
  },
  {
   "cell_type": "markdown",
   "metadata": {},
   "source": [
    "# Simple Linera Regerssion"
   ]
  },
  {
   "cell_type": "code",
   "execution_count": 8,
   "metadata": {},
   "outputs": [
    {
     "data": {
      "text/plain": [
       "LinearRegression()"
      ]
     },
     "execution_count": 8,
     "metadata": {},
     "output_type": "execute_result"
    }
   ],
   "source": [
    "regr = linear_model.LinearRegression()\n",
    "regr.fit(X_train,y_train)"
   ]
  },
  {
   "cell_type": "code",
   "execution_count": 9,
   "metadata": {},
   "outputs": [
    {
     "data": {
      "image/png": "[encoded data removed]",
      "text/plain": [
       "<Figure size 432x288 with 1 Axes>"
      ]
     },
     "metadata": {
      "needs_background": "light"
     },
     "output_type": "display_data"
    }
   ],
   "source": [
    "#觀察模型，資料集與測試集部分\n",
    "plt.scatter(X_train , y_train, color='black')\n",
    "plt.scatter(X_test , y_test , color='red')\n",
    "plt.show()"
   ]
  },
  {
   "cell_type": "code",
   "execution_count": 10,
   "metadata": {},
   "outputs": [
    {
     "data": {
      "image/png": "[encoded data removed]",
      "text/plain": [
       "<Figure size 432x288 with 1 Axes>"
      ]
     },
     "metadata": {
      "needs_background": "light"
     },
     "output_type": "display_data"
    }
   ],
   "source": [
    "#模型表現觀測\n",
    "plt.scatter(X_test , y_test , color = 'red')\n",
    "plt.scatter(X_test , regr.predict(X_test) , color = 'blue')\n",
    "plt.show()"
   ]
  },
  {
   "cell_type": "code",
   "execution_count": 11,
   "metadata": {},
   "outputs": [
    {
     "data": {
      "image/png": "[encoded data removed]",
      "text/plain": [
       "<Figure size 432x288 with 1 Axes>"
      ]
     },
     "metadata": {
      "needs_background": "light"
     },
     "output_type": "display_data"
    }
   ],
   "source": [
    "plt.scatter(X_test , y_test , color = 'red')\n",
    "plt.plot(X_test , regr.predict(X_test),color = 'blue',linewidth = 1)\n",
    "plt.show()"
   ]
  },
  {
   "cell_type": "code",
   "execution_count": 12,
   "metadata": {},
   "outputs": [
    {
     "name": "stdout",
     "output_type": "stream",
     "text": [
      "Intercept: 0.4837609072725577\n",
      "Cofficient: [53.70896828]\n"
     ]
    }
   ],
   "source": [
    "w_0=regr.intercept_#截距\n",
    "w_1=regr.coef_#斜率\n",
    "print('Intercept:',w_0)\n",
    "print('Cofficient:',w_1)"
   ]
  },
  {
   "cell_type": "code",
   "execution_count": 13,
   "metadata": {},
   "outputs": [
    {
     "data": {
      "text/plain": [
       "0.9024289015122277"
      ]
     },
     "execution_count": 13,
     "metadata": {},
     "output_type": "execute_result"
    }
   ],
   "source": [
    "#overfitting 情況：訓練達100%測試只有50%\n",
    "regr.score(X_train,y_train)"
   ]
  },
  {
   "cell_type": "code",
   "execution_count": 14,
   "metadata": {},
   "outputs": [
    {
     "data": {
      "text/plain": [
       "0.8598535011086375"
      ]
     },
     "execution_count": 14,
     "metadata": {},
     "output_type": "execute_result"
    }
   ],
   "source": [
    "regr.score(X_test,y_test)"
   ]
  },
  {
   "cell_type": "markdown",
   "metadata": {},
   "source": [
    "# 自行做一個線性回歸model Gradient Decent"
   ]
  },
  {
   "cell_type": "code",
   "execution_count": 15,
   "metadata": {},
   "outputs": [],
   "source": [
    "#Parameters參數\n",
    "alpha=0.001#learning rate\n",
    "repeats=100\n",
    "\n",
    "#Initializing variables\n",
    "w0 = 0\n",
    "w1 = 0\n",
    "errors = []\n",
    "points = []"
   ]
  },
  {
   "cell_type": "code",
   "execution_count": 16,
   "metadata": {},
   "outputs": [
    {
     "name": "stdout",
     "output_type": "stream",
     "text": [
      "w0 : 0.414017\n",
      "w1 : 53.638547\n"
     ]
    }
   ],
   "source": [
    "for j in range(repeats):\n",
    "    error_sum = 0\n",
    "    squared_error_sum = 0\n",
    "    error_sum_x = 0\n",
    "    for i in range(len(X_train)):\n",
    "        predict = w0 + (X_train[i]*w1)\n",
    "        squared_error_sum = squared_error_sum+(y_train[i]-predict)**2\n",
    "        error_sum = error_sum + y_train[i]-predict\n",
    "        error_sum_x = error_sum_x + (y_train[i]-predict)*X_train[i]\n",
    "    w0 = w0+(alpha*error_sum)\n",
    "    w1 = w1+(alpha*error_sum_x)\n",
    "    errors.append(squared_error_sum/len(X_train))\n",
    "print('w0 : %2f'%w0)\n",
    "print('w1 : %2f'%w1)"
   ]
  },
  {
   "cell_type": "code",
   "execution_count": 17,
   "metadata": {},
   "outputs": [],
   "source": [
    "predicts = []\n",
    "mean_error = 0\n",
    "for i in range(len(X_test)):\n",
    "    predict=w0+(X_test[i]*w1)\n",
    "    predicts.append(predict)"
   ]
  },
  {
   "cell_type": "code",
   "execution_count": 18,
   "metadata": {},
   "outputs": [
    {
     "data": {
      "image/png": "[encoded data removed]",
      "text/plain": [
       "<Figure size 432x288 with 1 Axes>"
      ]
     },
     "metadata": {
      "needs_background": "light"
     },
     "output_type": "display_data"
    }
   ],
   "source": [
    "plt.scatter(X_test,predicts)\n",
    "plt.scatter(X_test,y_test,color='red')\n",
    "plt.show()"
   ]
  },
  {
   "cell_type": "markdown",
   "metadata": {},
   "source": [
    "# Polynomial Regression多項式回歸"
   ]
  },
  {
   "cell_type": "code",
   "execution_count": 19,
   "metadata": {},
   "outputs": [
    {
     "data": {
      "image/png": "[encoded data removed]",
      "text/plain": [
       "<Figure size 432x288 with 1 Axes>"
      ]
     },
     "metadata": {
      "needs_background": "light"
     },
     "output_type": "display_data"
    }
   ],
   "source": [
    "#建立資料\n",
    "size = [5,10,12,14,18,30,33,55,65,80,100,150]\n",
    "price = [300,400,450,800,1200,1400,2000,2500,2800,3000,3500,9000]\n",
    "plt.scatter(size,price)\n",
    "plt.show()"
   ]
  },
  {
   "cell_type": "code",
   "execution_count": 20,
   "metadata": {},
   "outputs": [],
   "source": [
    "#資料整理\n",
    "series_dict={'X':size,'y':price}\n",
    "df = pd.DataFrame(series_dict)\n",
    "X = df[['X']]\n",
    "y = df[['y']]"
   ]
  },
  {
   "cell_type": "code",
   "execution_count": 21,
   "metadata": {},
   "outputs": [
    {
     "data": {
      "text/plain": [
       "Pipeline(steps=[('polynomialfeatures', PolynomialFeatures(degree=3)),\n",
       "                ('linearregression', LinearRegression())])"
      ]
     },
     "execution_count": 21,
     "metadata": {},
     "output_type": "execute_result"
    }
   ],
   "source": [
    "#建立模型，PolynomialFeatures(3)，3 = 幾次方\n",
    "model = make_pipeline(PolynomialFeatures(3) , linear_model.LinearRegression())\n",
    "model.fit(X,y)"
   ]
  },
  {
   "cell_type": "code",
   "execution_count": 22,
   "metadata": {},
   "outputs": [
    {
     "data": {
      "text/plain": [
       "[<matplotlib.lines.Line2D at 0x27560926a90>]"
      ]
     },
     "execution_count": 22,
     "metadata": {},
     "output_type": "execute_result"
    },
    {
     "data": {
      "image/png": "[encoded data removed]",
      "text/plain": [
       "<Figure size 432x288 with 1 Axes>"
      ]
     },
     "metadata": {
      "needs_background": "light"
     },
     "output_type": "display_data"
    }
   ],
   "source": [
    "plt.scatter(X,y)\n",
    "plt.plot(X,model.predict(X),color = 'red')"
   ]
  },
  {
   "cell_type": "code",
   "execution_count": 23,
   "metadata": {},
   "outputs": [
    {
     "data": {
      "image/png": "[encoded data removed]",
      "text/plain": [
       "<Figure size 432x288 with 1 Axes>"
      ]
     },
     "metadata": {
      "needs_background": "light"
     },
     "output_type": "display_data"
    }
   ],
   "source": [
    "#不確定該用多少次方時可以下方方法畫出多條次方預測線。\n",
    "scores = []\n",
    "colors = ['green','purple','gold','blue','black']\n",
    "plt.scatter(X,y,c='red')\n",
    "for count , degree in enumerate([1,2,3,4,5]):\n",
    "    model = make_pipeline(PolynomialFeatures(degree),linear_model.LinearRegression())\n",
    "    model.fit(X,y)\n",
    "    scores.append(model.score(X,y))\n",
    "    plt.plot(X,model.predict(X),color = colors[count],label='degree %d' %degree)\n",
    "    \n",
    "plt.legend(loc=2)\n",
    "plt.show()"
   ]
  },
  {
   "cell_type": "code",
   "execution_count": 24,
   "metadata": {},
   "outputs": [
    {
     "data": {
      "text/plain": [
       "[0.9059983910519219,\n",
       " 0.9585314218103534,\n",
       " 0.9951555665160685,\n",
       " 0.9966093112780661,\n",
       " 0.9966678106695324]"
      ]
     },
     "execution_count": 24,
     "metadata": {},
     "output_type": "execute_result"
    }
   ],
   "source": [
    "#觀看準確度\n",
    "scores"
   ]
  },
  {
   "cell_type": "markdown",
   "metadata": {},
   "source": [
    "# Multivariable Regression 多元回歸"
   ]
  },
  {
   "cell_type": "code",
   "execution_count": 25,
   "metadata": {},
   "outputs": [],
   "source": [
    "X,y = make_regression(n_samples = 100,n_features = 5,noise = 50)"
   ]
  },
  {
   "cell_type": "code",
   "execution_count": 26,
   "metadata": {},
   "outputs": [
    {
     "data": {
      "text/plain": [
       "array([[ 1.1377132 , -1.42317102,  1.02610072, -1.3267237 ,  0.3132264 ],\n",
       "       [ 1.28340807, -0.86034228,  2.18580418, -0.95316709,  0.64890819],\n",
       "       [-1.20778312,  1.34028374, -0.64096686,  0.78888528, -0.84018912],\n",
       "       [ 0.70234101,  0.60314137,  1.18049495,  0.29911835, -0.54900681],\n",
       "       [-0.46149227, -0.62544881, -1.03055863, -0.96824457,  0.90745285],\n",
       "       [ 0.88640937,  2.12711633, -1.58436677,  1.03705186, -0.0526182 ],\n",
       "       [ 1.42651765,  0.12830471, -1.25408075, -0.46594653, -0.08857592],\n",
       "       [-1.73301924, -0.25757509, -1.00690706,  1.09406044, -1.72691681],\n",
       "       [-1.32123415,  1.48944164, -0.69680428,  1.17092161,  2.06404398],\n",
       "       [-0.67618306,  0.54468516, -0.84956505,  1.11138911,  0.28930945],\n",
       "       [-1.02550727,  0.62132207, -1.16887478,  0.136194  , -1.92716869],\n",
       "       [ 1.47390175, -0.16400674,  0.46490477,  1.36740232,  0.89776859],\n",
       "       [-0.32610742, -0.56985187, -0.12805942,  1.19547153, -2.40223047],\n",
       "       [-1.22934966,  0.93864247,  0.18896946,  0.01697356, -0.68192558],\n",
       "       [ 0.24005088, -1.81571107, -1.60842107,  0.78009314,  0.01151177],\n",
       "       [ 0.07980531,  1.98234   ,  0.76967955,  0.13151379, -0.38906774],\n",
       "       [-0.53979707,  1.36015682,  0.50864063,  0.16482714, -1.56139379],\n",
       "       [-0.46392391,  0.61519562, -0.40000816,  0.05452627,  0.5702523 ],\n",
       "       [-1.42057082,  0.36551809, -0.189328  ,  0.19808901,  0.6530988 ],\n",
       "       [-0.53940663, -0.07533955, -0.37133892, -0.35428067,  0.55052261],\n",
       "       [-0.53502617, -1.22430275,  1.84424789, -1.28038016, -0.01448883],\n",
       "       [-1.53650255, -0.40129313, -0.23305184, -1.10146521,  0.34291565],\n",
       "       [-1.60074583,  0.67418218, -0.01952861, -1.04088565,  0.88748697],\n",
       "       [-0.95718234, -2.17483765, -1.88928173, -0.25285688,  0.4069335 ],\n",
       "       [ 0.17598566, -1.16208972,  0.73204372, -0.6492764 , -1.74261348],\n",
       "       [ 0.37172958,  1.61039343,  0.45883632,  0.98268072, -1.72793041],\n",
       "       [ 0.67395608,  2.54111186, -0.35918781,  0.28917012, -1.09347551],\n",
       "       [ 0.4660912 ,  1.62138506,  0.32498621,  1.34307456,  0.40815252],\n",
       "       [-0.56568761, -0.41439512,  2.04567021,  1.80841225, -0.58905925],\n",
       "       [-2.17685864, -0.32471366, -0.73377968, -1.28008653, -0.18529202],\n",
       "       [ 0.0626476 , -0.82342789,  0.28890428, -0.03593233,  0.38703114],\n",
       "       [-0.02807688,  0.51108998,  1.30341004, -0.56880294,  0.0682407 ],\n",
       "       [-1.26898444,  0.6871575 , -1.06219691, -0.46475093,  1.81893075],\n",
       "       [-0.34879811,  1.14553994, -0.71022658,  1.75015974, -1.07213653],\n",
       "       [-0.83419698, -0.3407866 ,  2.17498316, -0.42778866, -0.41487076],\n",
       "       [ 0.2521478 , -1.64763998,  1.75621484,  1.87457182,  0.54323297],\n",
       "       [-0.53636112,  0.27575568,  0.53110638,  1.0604536 ,  0.67655087],\n",
       "       [ 1.25572097,  0.6633488 , -0.37337041, -0.3277809 , -0.52100878],\n",
       "       [-0.1145687 , -0.52208782,  0.17970963, -0.77031401,  0.2604849 ],\n",
       "       [ 0.26773907, -1.31857251,  0.82710367,  1.25120175,  0.37814948],\n",
       "       [ 0.24496138, -0.91094398,  0.5591128 ,  0.1956597 , -0.00926362],\n",
       "       [ 0.46787128, -0.87404018, -0.73390893,  0.09897673,  0.27669119],\n",
       "       [-0.53328689,  0.65187739,  1.3525415 ,  1.54522281, -0.8828678 ],\n",
       "       [-0.31075586, -0.54082535, -1.2944225 , -0.09663108, -1.47621236],\n",
       "       [-0.5051407 ,  1.84928126, -1.1952525 , -2.44987314, -0.1714559 ],\n",
       "       [-0.63713756,  0.11197864,  0.70858275,  0.28032036,  0.62139558],\n",
       "       [ 0.92484472,  0.46428126, -1.08439605, -1.86078079, -0.73640234],\n",
       "       [-0.48289823,  0.46586525, -2.05123491, -0.14062191,  1.53442089],\n",
       "       [ 0.49234102,  0.77254379,  0.26392609,  0.39824145, -1.93551323],\n",
       "       [ 0.5470641 ,  0.36717842,  0.46102067,  0.22280819,  1.09219343],\n",
       "       [-1.55163744, -0.00885963, -0.63203556, -0.08387529, -0.90429579],\n",
       "       [ 0.06764675, -0.08334202, -0.61663107, -0.22054849,  0.74128202],\n",
       "       [-1.3841164 ,  1.30609249,  0.43668323,  1.62275619,  0.1397751 ],\n",
       "       [-0.18779452,  0.14609225,  1.56797127, -0.58422291, -0.2913598 ],\n",
       "       [ 0.5761305 , -1.48216764,  0.38406991, -0.94194281, -0.32239672],\n",
       "       [-0.20635011, -0.42453781, -0.61998068,  0.18627845, -0.67113828],\n",
       "       [-0.20111262, -0.54938875, -1.32685589, -0.26141593,  0.21709114],\n",
       "       [ 1.23529397,  1.18310914, -0.19716733,  0.60627391,  1.0428444 ],\n",
       "       [-1.20805954, -0.14290961,  1.32042523,  0.31577013, -1.81833497],\n",
       "       [ 1.46678024, -0.93423968, -0.40767389,  1.20683068,  0.21767201],\n",
       "       [ 0.85741455,  0.15508812, -0.75217118,  1.00771219,  0.59858933],\n",
       "       [ 0.43094418,  1.99811754, -0.25032848, -0.86363183,  0.34726678],\n",
       "       [-0.16107771,  0.64487816, -0.00989189, -0.02846749, -0.12941462],\n",
       "       [ 1.69869838, -0.11576853,  2.48014564, -0.00659005, -0.6594429 ],\n",
       "       [-0.33904709, -1.41168322, -0.436041  ,  1.02702258,  1.54598348],\n",
       "       [-1.28976631,  0.15667518, -1.38687188, -1.17329254,  1.57072349],\n",
       "       [-0.33983718, -0.25226709,  2.91622017,  1.07266093, -1.17630256],\n",
       "       [-0.22490737,  0.90776673, -0.36882825,  0.19702964,  1.30337247],\n",
       "       [ 1.02458512,  0.07949734, -1.45332095,  1.52205012, -0.60702315],\n",
       "       [-0.0455761 ,  1.67924772,  0.26137723,  1.0911381 ,  0.85544609],\n",
       "       [ 0.52975058,  1.73887807, -0.52783348,  0.79444203, -1.38470415],\n",
       "       [ 0.02778276, -1.70295464,  0.41232307, -1.14218127,  2.32795714],\n",
       "       [-0.2675761 ,  1.30579798, -1.48353928, -0.11441718,  1.64827752],\n",
       "       [-0.25722618, -0.21982046,  0.36514015,  2.58548183,  0.72404132],\n",
       "       [-0.6111915 ,  0.54090431, -0.98486667,  0.21357815, -1.47308991],\n",
       "       [ 0.13528481, -0.80296773,  2.48797331, -0.64461331,  1.11829453],\n",
       "       [ 0.36754551, -0.65321245,  0.55909527, -1.07180512, -0.62999087],\n",
       "       [ 1.15225732,  1.50151256, -0.56490008,  0.8937944 , -1.49861863],\n",
       "       [-0.70762507,  0.26473875,  0.68160709, -0.30712767, -0.83290196],\n",
       "       [-0.51188079,  0.0466404 , -0.90296112,  0.80818055,  0.19920429],\n",
       "       [ 0.40041447,  0.20090201,  0.42000254,  0.89911935, -0.03565678],\n",
       "       [ 0.06578109,  0.98417152, -0.66786725,  0.44969292, -0.35652686],\n",
       "       [-0.03680291, -0.24600612, -0.69484621,  0.17279826, -1.00114618],\n",
       "       [ 0.14116221,  0.03967471, -0.17525173, -1.03801383,  0.83986396],\n",
       "       [-1.01934792,  2.80185234,  1.09385975, -1.53538698, -0.2333711 ],\n",
       "       [-0.6195278 , -0.03838038, -0.49356565,  0.13166262, -2.49465993],\n",
       "       [-0.9510178 , -1.50722892, -2.09630346,  0.0606123 , -0.28697235],\n",
       "       [-1.804136  , -2.73083494, -0.33762668, -0.29724146, -0.09190739],\n",
       "       [ 0.99799704, -0.8883262 ,  0.85216826, -0.67021391, -0.77784219],\n",
       "       [ 1.15662416, -1.56443367,  0.87816499,  0.96004113, -0.22777572],\n",
       "       [ 1.13247356, -1.04439511, -0.07233596,  3.27929225,  0.75841512],\n",
       "       [-1.57619488, -1.10489396,  0.90945981, -1.90847825, -0.04477899],\n",
       "       [-1.15634987,  1.29899097, -0.45424   ,  0.31106539,  0.92428921],\n",
       "       [ 1.04507115, -0.62604741, -0.57292786,  2.45752896,  0.3865512 ],\n",
       "       [-0.8744139 , -0.78084013,  0.48276293, -0.87580992,  0.89685442],\n",
       "       [-1.58562073, -0.39367992,  0.34912539, -0.7811362 ,  0.72501515],\n",
       "       [-0.75965527,  0.75788523,  0.17842429,  1.22438188,  0.66068161],\n",
       "       [-0.79563354,  0.6756116 , -1.47912429,  0.53475949, -0.39978821],\n",
       "       [ 0.67914703,  1.53159276,  0.38014415,  0.68351571, -0.52457496],\n",
       "       [-0.847331  , -0.09115834, -1.41260344,  0.54009308, -0.12123819]])"
      ]
     },
     "execution_count": 26,
     "metadata": {},
     "output_type": "execute_result"
    }
   ],
   "source": [
    "X"
   ]
  },
  {
   "cell_type": "code",
   "execution_count": 27,
   "metadata": {},
   "outputs": [
    {
     "data": {
      "text/plain": [
       "array([  24.90744529,  191.96136993,  -15.79499553,  226.72222383,\n",
       "       -177.96033322,   -2.13099175,  -31.61095917, -174.08096898,\n",
       "        -46.00317916,  -81.09475225, -220.87853263,  202.3565491 ,\n",
       "         28.05932714,  -10.40868912, -116.56713119,  143.30021586,\n",
       "         46.45487425,  -34.39176218,  -97.53345816,  -56.44430569,\n",
       "        -10.1431775 , -161.32247204,   -5.30691622, -374.36283688,\n",
       "         12.80639723,  132.76847968,  188.14062337,  186.85698894,\n",
       "        169.86052182, -350.77962512,   17.86240864,  117.86467474,\n",
       "       -158.76646976,  -44.33357848,  -76.5901582 ,  166.36092836,\n",
       "         22.88275501,   81.59029182,    3.42784286,  141.24499668,\n",
       "          1.86798883,   -3.38695865,  158.51363063, -219.14440319,\n",
       "       -115.38114625,   17.80220069,   -0.41600359, -132.40284329,\n",
       "         36.65223638,   55.0226551 , -144.19435037, -144.08784393,\n",
       "         -0.81552793,   91.17561725,  -14.30659149, -132.28959813,\n",
       "        -55.30777726,  112.54151798,   16.0326248 ,  -11.77625475,\n",
       "         25.65284008,  110.68607519,   -6.3133643 ,  273.73673672,\n",
       "        -46.55584752, -223.82742571,  196.47683952,   51.50748282,\n",
       "         14.14838368,  149.38776976,  154.54096205,  -14.23179695,\n",
       "        -88.54844492,  139.51649568,   -3.28620437,  135.84707008,\n",
       "         63.50396051,  177.53348171,  -77.61371447, -120.62861099,\n",
       "         94.63870778,   47.39670096,  -14.54615584, -116.49398823,\n",
       "         88.05320575,  -31.89082955, -199.70050792, -228.19105899,\n",
       "        161.16724752,   33.63347716,  118.07896143, -175.60039441,\n",
       "        -44.51580159,  -20.12334195, -148.46637097, -182.06414977,\n",
       "        103.85180936, -109.3958136 ,  144.53310168,  -49.37650603])"
      ]
     },
     "execution_count": 27,
     "metadata": {},
     "output_type": "execute_result"
    }
   ],
   "source": [
    "y"
   ]
  },
  {
   "cell_type": "code",
   "execution_count": 28,
   "metadata": {},
   "outputs": [],
   "source": [
    "X_train,X_test,y_train,y_test = train_test_split(X,y,test_size=0.3,random_state=0)"
   ]
  },
  {
   "cell_type": "code",
   "execution_count": 29,
   "metadata": {},
   "outputs": [
    {
     "data": {
      "text/plain": [
       "LinearRegression()"
      ]
     },
     "execution_count": 29,
     "metadata": {},
     "output_type": "execute_result"
    }
   ],
   "source": [
    "regr = linear_model.LinearRegression()\n",
    "regr.fit(X_train,y_train)"
   ]
  },
  {
   "cell_type": "code",
   "execution_count": 30,
   "metadata": {},
   "outputs": [
    {
     "data": {
      "text/plain": [
       "-0.5702523996508415"
      ]
     },
     "execution_count": 30,
     "metadata": {},
     "output_type": "execute_result"
    }
   ],
   "source": [
    "regr.intercept_"
   ]
  },
  {
   "cell_type": "code",
   "execution_count": 31,
   "metadata": {},
   "outputs": [
    {
     "data": {
      "text/plain": [
       "array([74.02058579, 42.5992326 , 68.14591822, 33.57687698, -5.96112997])"
      ]
     },
     "execution_count": 31,
     "metadata": {},
     "output_type": "execute_result"
    }
   ],
   "source": [
    "regr.coef_"
   ]
  },
  {
   "cell_type": "code",
   "execution_count": 32,
   "metadata": {},
   "outputs": [
    {
     "data": {
      "text/plain": [
       "0.8799204010795927"
      ]
     },
     "execution_count": 32,
     "metadata": {},
     "output_type": "execute_result"
    }
   ],
   "source": [
    "regr.score(X_train,y_train)"
   ]
  },
  {
   "cell_type": "code",
   "execution_count": 33,
   "metadata": {},
   "outputs": [],
   "source": [
    "#建立資料\n",
    "#房子大小\n",
    "size = [5,10,12,14,18,30,33,35,65,80,100,150]\n",
    "#與市中心距離\n",
    "distance = [50,20,70,100,200,150,30,50,70,35,40,20]\n",
    "#房價\n",
    "price = [300,400,450,800,1200,1400,2000,2500,2800,3000,3500,9000]"
   ]
  },
  {
   "cell_type": "code",
   "execution_count": 34,
   "metadata": {},
   "outputs": [],
   "source": [
    "#資料處理\n",
    "series_dict = {'X1' : size,'X2' : distance,'y' : price}\n",
    "df = pd.DataFrame(series_dict)\n",
    "X = df[['X1','X2']]\n",
    "y = df[['y']]"
   ]
  },
  {
   "cell_type": "code",
   "execution_count": 35,
   "metadata": {},
   "outputs": [
    {
     "data": {
      "text/plain": [
       "LinearRegression()"
      ]
     },
     "execution_count": 35,
     "metadata": {},
     "output_type": "execute_result"
    }
   ],
   "source": [
    "regr = linear_model.LinearRegression()\n",
    "regr.fit(X,y)"
   ]
  },
  {
   "cell_type": "code",
   "execution_count": 36,
   "metadata": {},
   "outputs": [
    {
     "data": {
      "text/plain": [
       "0.8960198847849856"
      ]
     },
     "execution_count": 36,
     "metadata": {},
     "output_type": "execute_result"
    }
   ],
   "source": [
    "regr.score(X,y)"
   ]
  },
  {
   "cell_type": "code",
   "execution_count": 37,
   "metadata": {},
   "outputs": [
    {
     "data": {
      "text/plain": [
       "array([-125.27687365])"
      ]
     },
     "execution_count": 37,
     "metadata": {},
     "output_type": "execute_result"
    }
   ],
   "source": [
    "regr.intercept_"
   ]
  },
  {
   "cell_type": "code",
   "execution_count": 38,
   "metadata": {},
   "outputs": [
    {
     "data": {
      "text/plain": [
       "array([[51.11876519,  0.76139413]])"
      ]
     },
     "execution_count": 38,
     "metadata": {},
     "output_type": "execute_result"
    }
   ],
   "source": [
    "regr.coef_"
   ]
  },
  {
   "cell_type": "markdown",
   "metadata": {},
   "source": [
    "# To Avoid Overfitting\n",
    "## 1.Lasso Regression\n",
    "## 2.Ridge Regression"
   ]
  },
  {
   "cell_type": "code",
   "execution_count": 39,
   "metadata": {},
   "outputs": [],
   "source": [
    "X,y = make_regression(n_samples = 1000,n_features = 10,noise = 10)"
   ]
  },
  {
   "cell_type": "code",
   "execution_count": 40,
   "metadata": {},
   "outputs": [],
   "source": [
    "X_train,X_test,y_train,y_test = train_test_split(X,y,test_size=0.3,random_state=5)"
   ]
  },
  {
   "cell_type": "code",
   "execution_count": 41,
   "metadata": {},
   "outputs": [
    {
     "data": {
      "text/plain": [
       "LinearRegression()"
      ]
     },
     "execution_count": 41,
     "metadata": {},
     "output_type": "execute_result"
    }
   ],
   "source": [
    "#一般邏輯回歸與多元式回歸\n",
    "regr = linear_model.LinearRegression()\n",
    "regr.fit(X_train,y_train)"
   ]
  },
  {
   "cell_type": "code",
   "execution_count": 42,
   "metadata": {},
   "outputs": [
    {
     "name": "stdout",
     "output_type": "stream",
     "text": [
      "Training Score:  0.9960501828568433\n",
      "Training Score:  0.9964354520756878\n"
     ]
    }
   ],
   "source": [
    "print('Training Score: ' , regr.score(X_train , y_train))\n",
    "print('Training Score: ' , regr.score(X_test , y_test))"
   ]
  },
  {
   "cell_type": "code",
   "execution_count": 43,
   "metadata": {},
   "outputs": [
    {
     "data": {
      "text/plain": [
       "Lasso(alpha=0.5)"
      ]
     },
     "execution_count": 43,
     "metadata": {},
     "output_type": "execute_result"
    }
   ],
   "source": [
    "#Lasso，alpha = 懲罰項\n",
    "clf_lasso = linear_model.Lasso(alpha = 0.5)\n",
    "clf_lasso.fit(X_train,y_train)"
   ]
  },
  {
   "cell_type": "code",
   "execution_count": 44,
   "metadata": {},
   "outputs": [
    {
     "name": "stdout",
     "output_type": "stream",
     "text": [
      "Training Score:  0.9959595553947671\n",
      "Training Score:  0.9963451516374735\n"
     ]
    }
   ],
   "source": [
    "print('Training Score: ' , clf_lasso.score(X_train , y_train))\n",
    "print('Training Score: ' , clf_lasso.score(X_test , y_test))"
   ]
  },
  {
   "cell_type": "code",
   "execution_count": 45,
   "metadata": {},
   "outputs": [
    {
     "data": {
      "text/plain": [
       "Ridge(alpha=0.5)"
      ]
     },
     "execution_count": 45,
     "metadata": {},
     "output_type": "execute_result"
    }
   ],
   "source": [
    "#ridge\n",
    "clf_ridge = linear_model.Ridge(alpha = 0.5)\n",
    "clf_ridge.fit(X_train,y_train)"
   ]
  },
  {
   "cell_type": "code",
   "execution_count": 46,
   "metadata": {},
   "outputs": [
    {
     "name": "stdout",
     "output_type": "stream",
     "text": [
      "Training Score:  0.996049662832725\n",
      "Training Score:  0.9964408099670145\n"
     ]
    }
   ],
   "source": [
    "print('Training Score: ' , clf_ridge.score(X_train , y_train))\n",
    "print('Training Score: ' , clf_ridge.score(X_test , y_test))"
   ]
  },
  {
   "cell_type": "code",
   "execution_count": 47,
   "metadata": {},
   "outputs": [
    {
     "data": {
      "text/plain": [
       "0.9997399605157551"
      ]
     },
     "execution_count": 47,
     "metadata": {},
     "output_type": "execute_result"
    }
   ],
   "source": [
    "#多項式回歸\n",
    "model = make_pipeline(PolynomialFeatures(4),linear_model.Ridge())\n",
    "model.fit(X,y)\n",
    "model.score(X,y)"
   ]
  }
 ],
 "metadata": {
  "kernelspec": {
   "display_name": "Python 3",
   "language": "python",
   "name": "python3"
  },
  "language_info": {
   "codemirror_mode": {
    "name": "ipython",
    "version": 3
   },
   "file_extension": ".py",
   "mimetype": "text/x-python",
   "name": "python",
   "nbconvert_exporter": "python",
   "pygments_lexer": "ipython3",
   "version": "3.8.3"
  }
 },
 "nbformat": 4,
 "nbformat_minor": 4
}
